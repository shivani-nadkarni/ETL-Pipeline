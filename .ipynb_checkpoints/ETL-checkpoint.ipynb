{
 "cells": [
  {
   "cell_type": "code",
   "execution_count": 33,
   "metadata": {
    "id": "iHAjUTaOKGRb"
   },
   "outputs": [],
   "source": [
    "import requests\n",
    "import datetime\n",
    "import pandas as pd\n",
    "import json\n",
    "from io import StringIO"
   ]
  },
  {
   "cell_type": "code",
   "execution_count": 17,
   "metadata": {
    "id": "1BxA3sBAKRD4"
   },
   "outputs": [],
   "source": [
    "TOKEN = \"BQB77mj2R296Ce7lvJVJZEM2MgeWjFizBFmBIEr9fINh_UsiG9XOSxhzx0nQododjqaqiuuK2zGexhI5Yf5OXpsd7CjBfJMBR68lMBzyR5rS8QlO0UBvwjyI9OBxWUCBxk0pCSB-Fu8VaYmFfRNBB66Kk6Xo4xv90V0tcB88\""
   ]
  },
  {
   "cell_type": "code",
   "execution_count": 20,
   "metadata": {
    "id": "5HC0TDy9KYjt"
   },
   "outputs": [],
   "source": [
    "headers = {\n",
    "\t\t\"Accept\" : \"application/json\",\n",
    "\t\t\"Content-Type\" : \"application/json\",\n",
    "\t\t\"Authorization\" : \"Bearer {token}\".format(token = TOKEN)\n",
    "\t}"
   ]
  },
  {
   "cell_type": "code",
   "execution_count": 5,
   "metadata": {
    "id": "yICfKwSQKbEw"
   },
   "outputs": [],
   "source": [
    "today = datetime.datetime.now()\n",
    "yesterday = today - datetime.timedelta(days=1)\n",
    "yesterday_in_unix = int(yesterday.timestamp()*1000)"
   ]
  },
  {
   "cell_type": "code",
   "execution_count": 36,
   "metadata": {},
   "outputs": [],
   "source": [
    "# making the API call and storing the response\n",
    "r = requests.get(\"https://api.spotify.com/v1/me/player/recently-played?after={time}\".format(time=yesterday_in_unix), headers=headers)"
   ]
  },
  {
   "cell_type": "code",
   "execution_count": null,
   "metadata": {},
   "outputs": [],
   "source": [
    "# print the ouput \n",
    "print(r.json())"
   ]
  },
  {
   "cell_type": "code",
   "execution_count": 40,
   "metadata": {},
   "outputs": [],
   "source": [
    "# replace the single quotes with double quotes\n",
    "response = r.text.replace(\"'\", '\"')"
   ]
  },
  {
   "cell_type": "code",
   "execution_count": null,
   "metadata": {},
   "outputs": [],
   "source": [
    "print(response)"
   ]
  },
  {
   "cell_type": "code",
   "execution_count": 29,
   "metadata": {
    "id": "n_r1NQH-OyMO"
   },
   "outputs": [],
   "source": [
    "json_obj = json.loads(r.text)"
   ]
  },
  {
   "cell_type": "code",
   "execution_count": null,
   "metadata": {
    "colab": {
     "base_uri": "https://localhost:8080/",
     "height": 467
    },
    "id": "jAmT572cPZmn",
    "outputId": "fab488bc-7b05-402a-98ad-7f7eb1b7b6a9"
   },
   "outputs": [],
   "source": [
    "# create dataframe\n",
    "\n",
    "df = pd.read_json(response)\n"
   ]
  },
  {
   "cell_type": "code",
   "execution_count": null,
   "metadata": {
    "id": "I2quWVxrQrhR"
   },
   "outputs": [],
   "source": []
  }
 ],
 "metadata": {
  "colab": {
   "name": "ETL",
   "provenance": []
  },
  "kernelspec": {
   "display_name": "Python 3",
   "language": "python",
   "name": "python3"
  },
  "language_info": {
   "codemirror_mode": {
    "name": "ipython",
    "version": 3
   },
   "file_extension": ".py",
   "mimetype": "text/x-python",
   "name": "python",
   "nbconvert_exporter": "python",
   "pygments_lexer": "ipython3",
   "version": "3.8.8"
  }
 },
 "nbformat": 4,
 "nbformat_minor": 1
}
